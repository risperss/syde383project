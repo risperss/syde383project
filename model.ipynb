{
 "cells": [
  {
   "cell_type": "code",
   "execution_count": 3,
   "id": "ab45dbe2-1a36-4086-b51f-4036eb593696",
   "metadata": {},
   "outputs": [],
   "source": [
    "import math"
   ]
  },
  {
   "cell_type": "code",
   "execution_count": 84,
   "id": "941c9a02-8e1d-41ae-ae09-1f2d1957d683",
   "metadata": {},
   "outputs": [],
   "source": [
    "# Givens\n",
    "d = 7.94e-3  # [m]\n",
    "L = ...  # [m]\n",
    "sin_theta = 1 / 150  # []\n",
    "h0, hf = 10e-2, 2e-2  # [m], [m]\n",
    "L_box, W_box = 32e-2, 26e-2  # [m], [m]\n",
    "eps = 0.0015e-3  # [m] (surface roughness of PVC pipe)\n",
    "mu = 0.89e-3 #  [Pa * s] (water at 25 degrees C)\n",
    "\n",
    "# Constants\n",
    "rho = 997  # [kg/m^3]\n",
    "g = 9.81  # [m/s^2]\n",
    "\n",
    "# Initial Conditions\n",
    "A_tube = math.pi * d ** 2 / 4  # [m^2]\n",
    "A_box = L_box * W_box  # [m^2]\n",
    "V0 = A_box * (h0 + hf)  # [m^3]\n",
    "\n",
    "# Final Conditions\n",
    "VF = A_box * hf"
   ]
  },
  {
   "cell_type": "code",
   "execution_count": 5,
   "id": "5daabddf-ec85-4fc9-9830-7e02b416aac8",
   "metadata": {},
   "outputs": [],
   "source": [
    "# Experimental Results\n",
    "results = {\n",
    "    20: (3, 19),\n",
    "    30: (3, 34),\n",
    "    40: (4, 26),\n",
    "    60: (4, 48)\n",
    "}\n",
    "results = {Li * 1e-2: 60 * mins + secs for Li, (mins, secs) in results.items()}\n",
    "\n",
    "def errors(model) -> int:\n",
    "    for Li, t_avg in results.items():\n",
    "        t_pred = model(Li)\n",
    "        print(f\"{Li=}m {t_avg=}s {t_pred=}s sqr_error={(t_avg - t_pred) ** 2}\")"
   ]
  },
  {
   "cell_type": "code",
   "execution_count": 6,
   "id": "44d404c5-e015-436a-8795-ff2d3d52e5ae",
   "metadata": {},
   "outputs": [],
   "source": [
    "# Model 1: Simple Bernoulli's Equation\n",
    "# Ignores: losses, height difference, tube length (!!)\n",
    "\n",
    "# (1 / (2 * A_tube ** 2)) * (V') ** 2 =  (g / A_box) * V\n",
    "k = A_tube * (2 * g / A_box) ** 0.5\n",
    "# dV/dt = -k * sqrt(V)\n",
    "# sqrt(V) = -kt + C\n",
    "C = 2 * V0 ** 0.5\n",
    "\n",
    "def V(t):\n",
    "    \"\"\"Volume of tank as a function of time\"\"\"\n",
    "    return (-k / 2 * t + C/2) ** 2\n",
    "\n",
    "# find root of function\n",
    "# VF = (-k / 2 * t + V0 ** 0.5) ** 2\n",
    "# t = 2/k (sqrt(V0) - sqrt(VF))\n",
    "\n",
    "def m1_t(L):\n",
    "    \"\"\"Time to drain as a funciton of tube length\"\"\"\n",
    "    return 2/k * (V0 ** 0.5 - VF ** 0.5)  # [s]"
   ]
  },
  {
   "cell_type": "code",
   "execution_count": 131,
   "id": "de0c3c07-6298-423f-813f-71ddd46b830b",
   "metadata": {},
   "outputs": [
    {
     "ename": "KeyboardInterrupt",
     "evalue": "",
     "output_type": "error",
     "traceback": [
      "\u001b[0;31m---------------------------------------------------------------------------\u001b[0m",
      "\u001b[0;31mKeyboardInterrupt\u001b[0m                         Traceback (most recent call last)",
      "Cell \u001b[0;32mIn[131], line 39\u001b[0m\n\u001b[1;32m     36\u001b[0m             \u001b[38;5;28;01mbreak\u001b[39;00m\n\u001b[1;32m     38\u001b[0m \u001b[38;5;28;01mfor\u001b[39;00m l \u001b[38;5;129;01min\u001b[39;00m [\u001b[38;5;241m0.2\u001b[39m, \u001b[38;5;241m0.3\u001b[39m, \u001b[38;5;241m0.4\u001b[39m, \u001b[38;5;241m0.6\u001b[39m]:\n\u001b[0;32m---> 39\u001b[0m     \u001b[43msolve\u001b[49m\u001b[43m(\u001b[49m\u001b[43ml\u001b[49m\u001b[43m)\u001b[49m\n",
      "Cell \u001b[0;32mIn[131], line 26\u001b[0m, in \u001b[0;36msolve\u001b[0;34m(l)\u001b[0m\n\u001b[1;32m     24\u001b[0m re \u001b[38;5;241m=\u001b[39m reynolds_number(vi)\n\u001b[1;32m     25\u001b[0m \u001b[38;5;28;01mif\u001b[39;00m re \u001b[38;5;241m>\u001b[39m \u001b[38;5;241m4000\u001b[39m:\n\u001b[0;32m---> 26\u001b[0m     f \u001b[38;5;241m=\u001b[39m \u001b[43mhaaland_equation\u001b[49m\u001b[43m(\u001b[49m\u001b[43mre\u001b[49m\u001b[43m)\u001b[49m\n\u001b[1;32m     27\u001b[0m     Vdot_i \u001b[38;5;241m=\u001b[39m \u001b[38;5;241m-\u001b[39mA_tube \u001b[38;5;241m*\u001b[39m ((Vi \u001b[38;5;241m/\u001b[39m A_box) \u001b[38;5;241m*\u001b[39m (\u001b[38;5;241m1\u001b[39m \u001b[38;5;241m/\u001b[39m (\u001b[38;5;241m2\u001b[39m \u001b[38;5;241m*\u001b[39m g) \u001b[38;5;241m*\u001b[39m (l \u001b[38;5;241m/\u001b[39m d \u001b[38;5;241m*\u001b[39m f \u001b[38;5;241m+\u001b[39m \u001b[38;5;241m1\u001b[39m)) \u001b[38;5;241m*\u001b[39m\u001b[38;5;241m*\u001b[39m \u001b[38;5;241m-\u001b[39m\u001b[38;5;241m1\u001b[39m) \u001b[38;5;241m*\u001b[39m\u001b[38;5;241m*\u001b[39m \u001b[38;5;241m0.5\u001b[39m\n\u001b[1;32m     28\u001b[0m \u001b[38;5;28;01melse\u001b[39;00m:\n",
      "Cell \u001b[0;32mIn[131], line 4\u001b[0m, in \u001b[0;36mhaaland_equation\u001b[0;34m(re)\u001b[0m\n\u001b[1;32m      1\u001b[0m \u001b[38;5;28;01mdef\u001b[39;00m \u001b[38;5;21mreynolds_number\u001b[39m(v):\n\u001b[1;32m      2\u001b[0m     \u001b[38;5;28;01mreturn\u001b[39;00m rho \u001b[38;5;241m*\u001b[39m v \u001b[38;5;241m*\u001b[39m d \u001b[38;5;241m/\u001b[39m mu\n\u001b[0;32m----> 4\u001b[0m \u001b[38;5;28;01mdef\u001b[39;00m \u001b[38;5;21mhaaland_equation\u001b[39m(re):\n\u001b[1;32m      5\u001b[0m     inv_sqrt_f \u001b[38;5;241m=\u001b[39m \u001b[38;5;241m-\u001b[39m\u001b[38;5;241m1.8\u001b[39m \u001b[38;5;241m*\u001b[39m math\u001b[38;5;241m.\u001b[39mlog10((eps \u001b[38;5;241m/\u001b[39m d \u001b[38;5;241m/\u001b[39m \u001b[38;5;241m3.7\u001b[39m) \u001b[38;5;241m*\u001b[39m\u001b[38;5;241m*\u001b[39m \u001b[38;5;241m1.1\u001b[39m \u001b[38;5;241m+\u001b[39m \u001b[38;5;241m6.9\u001b[39m \u001b[38;5;241m/\u001b[39m re)\n\u001b[1;32m      6\u001b[0m     \u001b[38;5;28;01mreturn\u001b[39;00m (\u001b[38;5;241m1\u001b[39m \u001b[38;5;241m/\u001b[39m inv_sqrt_f) \u001b[38;5;241m*\u001b[39m\u001b[38;5;241m*\u001b[39m \u001b[38;5;241m2\u001b[39m\n",
      "\u001b[0;31mKeyboardInterrupt\u001b[0m: "
     ]
    }
   ],
   "source": [
    "def reynolds_number(v):\n",
    "    return rho * v * d / mu\n",
    "\n",
    "def haaland_equation(re):\n",
    "    inv_sqrt_f = -1.8 * math.log10((eps / d / 3.7) ** 1.1 + 6.9 / re)\n",
    "    return (1 / inv_sqrt_f) ** 2\n",
    "\n",
    "def s_t_min_s(s):\n",
    "    return f\"{s//60}:{(s%60):02}\"\n",
    "\n",
    "def solve(l):\n",
    "    Vi = V0\n",
    "    Vdot_i = 0\n",
    "    n = 0\n",
    "    delta_t = 0.00001  # [s]\n",
    "    while True:\n",
    "        n += 1\n",
    "        Vi += Vdot_i * delta_t  # [m^3/s]\n",
    "        vi = -Vdot_i / A_tube  # [m/s]\n",
    "\n",
    "        if vi == 0:\n",
    "            Vdot_i = -A_tube * (2 * g / A_box * Vi) ** 0.5\n",
    "        else:\n",
    "            re = reynolds_number(vi)\n",
    "            if re > 4000:\n",
    "                f = haaland_equation(re)\n",
    "                Vdot_i = -A_tube * ((Vi / A_box) * (1 / (2 * g) * (l / d * f + 1)) ** -1) ** 0.5\n",
    "            else:\n",
    "                Vdot_i = -A_tube * (g / A_box * Vi) ** 0.5\n",
    "\n",
    "        if abs((Vi - VF) / VF) < 0.001:\n",
    "            print(l, \"=>\", s_t_min_s(int(n * delta_t)))\n",
    "            break\n",
    "        elif n > 500 / delta_t:\n",
    "            print(\"too many steps\")\n",
    "            break\n",
    "\n",
    "for l in [0.2, 0.3, 0.4, 0.6]:\n",
    "    solve(l)"
   ]
  }
 ],
 "metadata": {
  "kernelspec": {
   "display_name": "Python 3 (ipykernel)",
   "language": "python",
   "name": "python3"
  },
  "language_info": {
   "codemirror_mode": {
    "name": "ipython",
    "version": 3
   },
   "file_extension": ".py",
   "mimetype": "text/x-python",
   "name": "python",
   "nbconvert_exporter": "python",
   "pygments_lexer": "ipython3",
   "version": "3.9.18"
  }
 },
 "nbformat": 4,
 "nbformat_minor": 5
}
