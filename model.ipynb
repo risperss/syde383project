{
 "cells": [
  {
   "cell_type": "code",
   "execution_count": 1,
   "id": "ab45dbe2-1a36-4086-b51f-4036eb593696",
   "metadata": {},
   "outputs": [],
   "source": [
    "import math"
   ]
  },
  {
   "cell_type": "code",
   "execution_count": 2,
   "id": "941c9a02-8e1d-41ae-ae09-1f2d1957d683",
   "metadata": {},
   "outputs": [],
   "source": [
    "# Givens\n",
    "d = 7.94e-3  # [m]\n",
    "L = ...  # [m]\n",
    "sin_theta = 1 / 150  # []\n",
    "h0, hf = 10e-2, 2e-2  # [m], [m]\n",
    "L_box, W_box = 32e-2, 26e-2  # [m], [m]\n",
    "eps = 0.0015e-3  # [m] (surface roughness of PVC pipe)\n",
    "mu = 0.89e-3  # [Pa * s] (water at 25 degrees C)\n",
    "mu = 0.0010016  # [Pa * s] (water at 25 degrees C)\n",
    "K = 0.5  # [] coefficient for minor losses\n",
    "K = 0  # for now until it stops messing up the results\n",
    "\n",
    "# Constants\n",
    "rho = 997  # [kg/m^3]\n",
    "g = 9.81  # [m/s^2]\n",
    "\n",
    "# Initial Conditions\n",
    "A_tube = math.pi * d ** 2 / 4  # [m^2]\n",
    "A_box = L_box * W_box  # [m^2]\n",
    "V0 = A_box * (h0 + hf)  # [m^3]\n",
    "\n",
    "# Final Conditions\n",
    "VF = A_box * hf"
   ]
  },
  {
   "cell_type": "code",
   "execution_count": 3,
   "id": "5daabddf-ec85-4fc9-9830-7e02b416aac8",
   "metadata": {},
   "outputs": [],
   "source": [
    "# Experimental Results\n",
    "results = {\n",
    "    20: (3, 19),\n",
    "    30: (3, 34),\n",
    "    40: (4, 26),\n",
    "    60: (4, 48)\n",
    "}\n",
    "results = {Li * 1e-2: 60 * mins + secs for Li, (mins, secs) in results.items()}\n",
    "\n",
    "def errors(model) -> int:\n",
    "    for Li, t_avg in results.items():\n",
    "        t_pred = model(Li)\n",
    "        print(f\"{Li=}m {t_avg=}s {t_pred=}s sqr_error={(t_avg - t_pred) ** 2}\")"
   ]
  },
  {
   "cell_type": "code",
   "execution_count": 4,
   "id": "44d404c5-e015-436a-8795-ff2d3d52e5ae",
   "metadata": {},
   "outputs": [],
   "source": [
    "# Model 1: Simple Bernoulli's Equation\n",
    "# Ignores: losses, height difference, tube length (!!)\n",
    "\n",
    "# (1 / (2 * A_tube ** 2)) * (V') ** 2 =  (g / A_box) * V\n",
    "k = A_tube * (2 * g / A_box) ** 0.5\n",
    "# dV/dt = -k * sqrt(V)\n",
    "# sqrt(V) = -kt + C\n",
    "C = 2 * V0 ** 0.5\n",
    "\n",
    "def V(t):\n",
    "    \"\"\"Volume of tank as a function of time\"\"\"\n",
    "    return (-k / 2 * t + C/2) ** 2\n",
    "\n",
    "# find root of function\n",
    "# VF = (-k / 2 * t + V0 ** 0.5) ** 2\n",
    "# t = 2/k (sqrt(V0) - sqrt(VF))\n",
    "\n",
    "def m1_t(L):\n",
    "    \"\"\"Time to drain as a funciton of tube length\"\"\"\n",
    "    return 2/k * (V0 ** 0.5 - VF ** 0.5)  # [s]"
   ]
  },
  {
   "cell_type": "code",
   "execution_count": 5,
   "id": "de0c3c07-6298-423f-813f-71ddd46b830b",
   "metadata": {},
   "outputs": [],
   "source": [
    "def reynolds_number(v):\n",
    "    return rho * v * d / mu\n",
    "\n",
    "def haaland_equation(re):\n",
    "    inv_sqrt_f = -1.8 * math.log10((eps / d / 3.7) ** 1.1 + 6.9 / re)\n",
    "    return (1 / inv_sqrt_f) ** 2\n",
    "\n",
    "def serghides_equation(re):\n",
    "    A = -2 * math.log10(eps / d / 3.7 + 12 / re)\n",
    "    B = -2 * math.log10(eps / d / 3.7 + 2.51 * A / re)\n",
    "    C = -2 * math.log10(eps / d / 3.7 + 2.51 * B / re)\n",
    "    inv_sqrt_f = A - (B - A) ** 2 / (C - 2 * B + A)\n",
    "    return (1 / inv_sqrt_f) ** 2\n",
    "\n",
    "def s_t_min_s(s):\n",
    "    return f\"{s//60}:{(s%60):02}\"\n",
    "\n",
    "def solve(l, f_eqn=haaland_equation, trans_is_turb=True, silent=False) -> int:\n",
    "    Vi = V0\n",
    "    Vdot_i = 0\n",
    "    n = 0\n",
    "    turb, lam, trans = 0, 0, 0\n",
    "    delta_t = 0.001  # [s]\n",
    "    while True:\n",
    "        n += 1\n",
    "        Vi += Vdot_i * delta_t  # [m^3/s]\n",
    "        vi = -Vdot_i / A_tube  # [m/s]\n",
    "        re = reynolds_number(vi)\n",
    "        if re > 4000:\n",
    "            # NOTE:\n",
    "            # for our small pipe lengths where the flow is entirely turbulent,\n",
    "            # the model is taking too long for the pipe to drain.\n",
    "            # Therefore, this is the main culprit for error\n",
    "            turb += 1\n",
    "            f = f_eqn(re)\n",
    "            alpha = 1 / (1 + 0.6 / re ** 0.5)\n",
    "        elif re > 2300:\n",
    "            # TODO: what do we do here, not important based on pct in each state but still interesting\n",
    "            trans += 1\n",
    "            if trans_is_turb:\n",
    "                f = f_eqn(re)\n",
    "                alpha = 1 / (1 + 0.6 / re ** 0.5)\n",
    "            else:\n",
    "                f = 64 / (re)\n",
    "                alpha = 2\n",
    "        else:\n",
    "            lam += 1\n",
    "            f = 64 / (re or 4000)\n",
    "            alpha = 2\n",
    "        Vdot_i = -A_tube * ((Vi / A_box + l / 150) / ((0.5 / g) * (alpha + K + l * f / d))) ** 0.5\n",
    "\n",
    "        if abs((Vi - VF) / VF) < 0.001:\n",
    "            tf = int(n * delta_t)\n",
    "            t_exp = results[l]\n",
    "            diff = tf - t_exp\n",
    "            if not silent:\n",
    "                print(f\"{l}m => {s_t_min_s(tf)} || actual:{s_t_min_s(t_exp)} || diff:{diff} || error:{(1 - min(tf / t_exp, t_exp / tf)) * 100:.02}% || turb:{(turb / n):.02} trans:{(trans / n):.02} lam:{(lam / n):.02}\")\n",
    "            return diff\n",
    "        elif n > 500 / delta_t:\n",
    "            print(\"too many steps\")\n",
    "            break"
   ]
  },
  {
   "cell_type": "code",
   "execution_count": 9,
   "id": "ddb7691f-caec-46cb-ba9a-c1a85f3cf180",
   "metadata": {},
   "outputs": [
    {
     "name": "stdout",
     "output_type": "stream",
     "text": [
      "Haaland\n",
      "0.2m => 3:31 || actual:3:19 || diff:12 || error:5.7% || turb:0.92 trans:0.082 lam:4.7e-06\n",
      "0.3m => 3:55 || actual:3:34 || diff:21 || error:8.9% || turb:0.83 trans:0.17 lam:4.2e-06\n",
      "0.4m => 4:18 || actual:4:26 || diff:-8 || error:3.0% || turb:0.75 trans:0.25 lam:3.9e-06\n",
      "0.6m => 4:58 || actual:4:48 || diff:10 || error:3.4% || turb:0.61 trans:0.39 lam:3.3e-06\n",
      "Serghides\n",
      "0.2m => 3:30 || actual:3:19 || diff:11 || error:5.2% || turb:0.92 trans:0.079 lam:4.7e-06\n",
      "0.3m => 3:55 || actual:3:34 || diff:21 || error:8.9% || turb:0.83 trans:0.17 lam:4.3e-06\n",
      "0.4m => 4:17 || actual:4:26 || diff:-9 || error:3.4% || turb:0.75 trans:0.25 lam:3.9e-06\n",
      "0.6m => 4:57 || actual:4:48 || diff:9 || error:3.0% || turb:0.61 trans:0.39 lam:3.4e-06\n"
     ]
    }
   ],
   "source": [
    "# Haaland vs Serghides || No difference\n",
    "print(\"Haaland\")\n",
    "for l in [0.2, 0.3, 0.4, 0.6]:\n",
    "    solve(l, f_eqn=haaland_equation)\n",
    "\n",
    "print(\"Serghides\")\n",
    "for l in [0.2, 0.3, 0.4, 0.6]:\n",
    "    solve(l, f_eqn=serghides_equation)"
   ]
  },
  {
   "cell_type": "code",
   "execution_count": 10,
   "id": "5f8baf3c-ee94-4c60-9de7-28f927af8502",
   "metadata": {},
   "outputs": [
    {
     "name": "stdout",
     "output_type": "stream",
     "text": [
      "trans = turb\n",
      "0.2m => 3:31 || actual:3:19 || diff:12 || error:5.7% || turb:0.92 trans:0.082 lam:4.7e-06\n",
      "0.3m => 3:55 || actual:3:34 || diff:21 || error:8.9% || turb:0.83 trans:0.17 lam:4.2e-06\n",
      "0.4m => 4:18 || actual:4:26 || diff:-8 || error:3.0% || turb:0.75 trans:0.25 lam:3.9e-06\n",
      "0.6m => 4:58 || actual:4:48 || diff:10 || error:3.4% || turb:0.61 trans:0.39 lam:3.3e-06\n",
      "trans = lam\n",
      "0.2m => 3:32 || actual:3:19 || diff:13 || error:6.1% || turb:0.91 trans:0.089 lam:4.7e-06\n",
      "0.3m => 3:56 || actual:3:34 || diff:22 || error:9.3% || turb:0.83 trans:0.17 lam:4.2e-06\n",
      "0.4m => 4:16 || actual:4:26 || diff:-10 || error:3.8% || turb:0.77 trans:0.23 lam:3.9e-06\n",
      "0.6m => 4:47 || actual:4:48 || diff:-1 || error:0.35% || turb:0.69 trans:0.31 lam:3.5e-06\n"
     ]
    }
   ],
   "source": [
    "print(\"trans = turb\")\n",
    "for l in [0.2, 0.3, 0.4, 0.6]:\n",
    "    solve(l, trans_is_turb=True)\n",
    "\n",
    "print(\"trans = lam\")\n",
    "for l in [0.2, 0.3, 0.4, 0.6]:\n",
    "    solve(l, trans_is_turb=False)"
   ]
  }
 ],
 "metadata": {
  "kernelspec": {
   "display_name": "Python 3 (ipykernel)",
   "language": "python",
   "name": "python3"
  },
  "language_info": {
   "codemirror_mode": {
    "name": "ipython",
    "version": 3
   },
   "file_extension": ".py",
   "mimetype": "text/x-python",
   "name": "python",
   "nbconvert_exporter": "python",
   "pygments_lexer": "ipython3",
   "version": "3.9.18"
  }
 },
 "nbformat": 4,
 "nbformat_minor": 5
}
