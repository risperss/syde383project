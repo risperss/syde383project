{
 "cells": [
  {
   "cell_type": "code",
   "execution_count": 134,
   "id": "ab45dbe2-1a36-4086-b51f-4036eb593696",
   "metadata": {},
   "outputs": [],
   "source": [
    "import math"
   ]
  },
  {
   "cell_type": "code",
   "execution_count": 135,
   "id": "941c9a02-8e1d-41ae-ae09-1f2d1957d683",
   "metadata": {},
   "outputs": [],
   "source": [
    "# Givens\n",
    "d = 7.94e-3  # [m]\n",
    "L = ...  # [m]\n",
    "sin_theta = 1 / 150  # []\n",
    "h0, hf = 10e-2, 2e-2  # [m], [m]\n",
    "L_box, W_box = 32e-2, 26e-2  # [m], [m]\n",
    "eps = 0.0015e-3  # [m] (surface roughness of PVC pipe)\n",
    "mu = 0.89e-3 #  [Pa * s] (water at 25 degrees C)\n",
    "\n",
    "# Constants\n",
    "rho = 997  # [kg/m^3]\n",
    "g = 9.81  # [m/s^2]\n",
    "\n",
    "# Initial Conditions\n",
    "A_tube = math.pi * d ** 2 / 4  # [m^2]\n",
    "A_box = L_box * W_box  # [m^2]\n",
    "V0 = A_box * (h0 + hf)  # [m^3]\n",
    "\n",
    "# Final Conditions\n",
    "VF = A_box * hf"
   ]
  },
  {
   "cell_type": "code",
   "execution_count": 136,
   "id": "5daabddf-ec85-4fc9-9830-7e02b416aac8",
   "metadata": {},
   "outputs": [],
   "source": [
    "# Experimental Results\n",
    "results = {\n",
    "    20: (3, 19),\n",
    "    30: (3, 34),\n",
    "    40: (4, 26),\n",
    "    60: (4, 48)\n",
    "}\n",
    "results = {Li * 1e-2: 60 * mins + secs for Li, (mins, secs) in results.items()}\n",
    "\n",
    "def errors(model) -> int:\n",
    "    for Li, t_avg in results.items():\n",
    "        t_pred = model(Li)\n",
    "        print(f\"{Li=}m {t_avg=}s {t_pred=}s sqr_error={(t_avg - t_pred) ** 2}\")"
   ]
  },
  {
   "cell_type": "code",
   "execution_count": 137,
   "id": "44d404c5-e015-436a-8795-ff2d3d52e5ae",
   "metadata": {},
   "outputs": [],
   "source": [
    "# Model 1: Simple Bernoulli's Equation\n",
    "# Ignores: losses, height difference, tube length (!!)\n",
    "\n",
    "# (1 / (2 * A_tube ** 2)) * (V') ** 2 =  (g / A_box) * V\n",
    "k = A_tube * (2 * g / A_box) ** 0.5\n",
    "# dV/dt = -k * sqrt(V)\n",
    "# sqrt(V) = -kt + C\n",
    "C = 2 * V0 ** 0.5\n",
    "\n",
    "def V(t):\n",
    "    \"\"\"Volume of tank as a function of time\"\"\"\n",
    "    return (-k / 2 * t + C/2) ** 2\n",
    "\n",
    "# find root of function\n",
    "# VF = (-k / 2 * t + V0 ** 0.5) ** 2\n",
    "# t = 2/k (sqrt(V0) - sqrt(VF))\n",
    "\n",
    "def m1_t(L):\n",
    "    \"\"\"Time to drain as a funciton of tube length\"\"\"\n",
    "    return 2/k * (V0 ** 0.5 - VF ** 0.5)  # [s]"
   ]
  },
  {
   "cell_type": "code",
   "execution_count": 141,
   "id": "de0c3c07-6298-423f-813f-71ddd46b830b",
   "metadata": {},
   "outputs": [
    {
     "name": "stdout",
     "output_type": "stream",
     "text": [
      "0.2 => 3:32\n",
      "0.3 => 3:56\n",
      "0.4 => 4:17\n",
      "0.5 => 4:34\n",
      "0.6 => 4:48\n"
     ]
    }
   ],
   "source": [
    "def reynolds_number(v):\n",
    "    return rho * v * d / mu\n",
    "\n",
    "def haaland_equation(re):\n",
    "    inv_sqrt_f = -1.8 * math.log10((eps / d / 3.7) ** 1.1 + 6.9 / re)\n",
    "    return (1 / inv_sqrt_f) ** 2\n",
    "\n",
    "def s_t_min_s(s):\n",
    "    return f\"{s//60}:{(s%60):02}\"\n",
    "\n",
    "def solve(l):\n",
    "    Vi = V0\n",
    "    Vdot_i = 0\n",
    "    n = 0\n",
    "    delta_t = 0.01  # [s]\n",
    "    while True:\n",
    "        n += 1\n",
    "        Vi += Vdot_i * delta_t  # [m^3/s]\n",
    "        vi = -Vdot_i / A_tube  # [m/s]\n",
    "\n",
    "        if vi == 0:\n",
    "            Vdot_i = -A_tube * (2 * g / A_box * Vi) ** 0.5\n",
    "        else:\n",
    "            re = reynolds_number(vi)\n",
    "            if re > 4000:\n",
    "                f = haaland_equation(re)\n",
    "                Vdot_i = -A_tube * ((Vi / A_box) * (1 / (2 * g) * (l / d * f + 1)) ** -1) ** 0.5\n",
    "            else:\n",
    "                Vdot_i = -A_tube * (g / A_box * Vi) ** 0.5\n",
    "\n",
    "        if abs((Vi - VF) / VF) < 0.001:\n",
    "            print(l, \"=>\", s_t_min_s(int(n * delta_t)))\n",
    "            break\n",
    "        elif n > 500 / delta_t:\n",
    "            print(\"too many steps\")\n",
    "            break\n",
    "\n",
    "for l in [0.2, 0.3, 0.4, 0.5, 0.6]:\n",
    "    solve(l)"
   ]
  }
 ],
 "metadata": {
  "kernelspec": {
   "display_name": "Python 3 (ipykernel)",
   "language": "python",
   "name": "python3"
  },
  "language_info": {
   "codemirror_mode": {
    "name": "ipython",
    "version": 3
   },
   "file_extension": ".py",
   "mimetype": "text/x-python",
   "name": "python",
   "nbconvert_exporter": "python",
   "pygments_lexer": "ipython3",
   "version": "3.9.18"
  }
 },
 "nbformat": 4,
 "nbformat_minor": 5
}
