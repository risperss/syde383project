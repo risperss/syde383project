{
 "cells": [
  {
   "cell_type": "code",
   "execution_count": 55,
   "id": "ab45dbe2-1a36-4086-b51f-4036eb593696",
   "metadata": {},
   "outputs": [],
   "source": [
    "import math"
   ]
  },
  {
   "cell_type": "code",
   "execution_count": 56,
   "id": "941c9a02-8e1d-41ae-ae09-1f2d1957d683",
   "metadata": {},
   "outputs": [],
   "source": [
    "# Givens\n",
    "d = 7.94e-3  # [m]\n",
    "L = ...  # [m]\n",
    "sin_theta = 1 / 150  # []\n",
    "h0, hf = 10e-2, 2e-2  # [m], [m]\n",
    "L_box, W_box = 32e-2, 26e-2  # [m], [m]\n",
    "\n",
    "# Constants\n",
    "rho = 1000  # [kg/m^3]\n",
    "g = 9.81  # [m/s^2]\n",
    "\n",
    "# Initial Conditions\n",
    "V0 = L_box * W_box * h0  # [m^3]\n",
    "A_tube = math.pi * d ** 2 / 4  # [m^2]\n",
    "A_box = L_box * W_box  # [m^2]"
   ]
  },
  {
   "cell_type": "code",
   "execution_count": 57,
   "id": "5daabddf-ec85-4fc9-9830-7e02b416aac8",
   "metadata": {},
   "outputs": [],
   "source": [
    "# Experimental Results\n",
    "results = {\n",
    "    20: (3, 19),\n",
    "    30: (3, 34),\n",
    "    40: (4, 26),\n",
    "    60: (4, 48)\n",
    "}\n",
    "results = {Li * 1e-2: 60 * mins + secs for Li, (mins, secs) in results.items()}\n",
    "\n",
    "def errors(model) -> int:\n",
    "    for Li, t_avg in results.items():\n",
    "        t_pred = model(Li)\n",
    "        print(f\"{Li=}m {t_avg=}s {t_pred=}s sqr_error={(t_avg - t_pred) ** 2}\")"
   ]
  },
  {
   "cell_type": "code",
   "execution_count": 59,
   "id": "44d404c5-e015-436a-8795-ff2d3d52e5ae",
   "metadata": {},
   "outputs": [
    {
     "name": "stdout",
     "output_type": "stream",
     "text": [
      "Li=0.2m t_avg=199s t_pred=239s sqr_error=1600\n",
      "Li=0.3m t_avg=214s t_pred=239s sqr_error=625\n",
      "Li=0.4m t_avg=266s t_pred=239s sqr_error=729\n",
      "Li=0.6m t_avg=288s t_pred=239s sqr_error=2401\n"
     ]
    }
   ],
   "source": [
    "# Model 1: Simple Bernoulli's Equation\n",
    "# Ignores: losses, height difference, tube length (!!)\n",
    "m1_a = 1 / (2 * A_tube ** 2)\n",
    "m1_b = g / A_box\n",
    "\n",
    "# m1_a * (V') ** 2 - m1_b * V = 0\n",
    "\n",
    "# from Wolfram Alpha (https://www.wolframalpha.com/input?i=203942732*%28x%27%29%5E2+-+118*x+%3D+0%2C+x%280%29+%3D+0.0083)\n",
    "def V(t):\n",
    "    \"\"\"Volume of tank as a function of time\"\"\"\n",
    "    1.44648e-7 * (57380.5 - 479.085 * t + t ** 2)\n",
    "\n",
    "# from Wolfram Alpha (https://www.wolframalpha.com/input?i=1.44648%C3%9710%5E-7+%2857380.5+-+479.085+t+%2B+t%5E2%29)\n",
    "# root of solution to differential equation\n",
    "# 3 minutes, 59 seconds\n",
    "m1_t = 239  # [s]\n",
    "\n",
    "def m1_t(L):\n",
    "    \"\"\"Time to drain as a funciton of tube length\"\"\"\n",
    "    return 239\n",
    "\n",
    "errors(m1_t)"
   ]
  }
 ],
 "metadata": {
  "kernelspec": {
   "display_name": "Python 3 (ipykernel)",
   "language": "python",
   "name": "python3"
  },
  "language_info": {
   "codemirror_mode": {
    "name": "ipython",
    "version": 3
   },
   "file_extension": ".py",
   "mimetype": "text/x-python",
   "name": "python",
   "nbconvert_exporter": "python",
   "pygments_lexer": "ipython3",
   "version": "3.12.4"
  }
 },
 "nbformat": 4,
 "nbformat_minor": 5
}
