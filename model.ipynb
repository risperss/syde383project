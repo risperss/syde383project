{
 "cells": [
  {
   "cell_type": "code",
   "execution_count": 7,
   "id": "941c9a02-8e1d-41ae-ae09-1f2d1957d683",
   "metadata": {},
   "outputs": [],
   "source": [
    "import math\n",
    "\n",
    "# Givens\n",
    "d = 7.94e-3  # [m]\n",
    "A_tube = math.pi * d / 4  # [m^2]\n",
    "L = ...  # [m]\n",
    "sin_theta = 1 / 150  # []\n",
    "h0, hf = 10e-2, 2e-2  # [m], [m]\n",
    "L_box, W_box = 32e-2, 26e-2  # [m], [m]\n",
    "\n",
    "# Constants\n",
    "rho = 1000  # [kg/m^3]"
   ]
  }
 ],
 "metadata": {
  "kernelspec": {
   "display_name": "Python 3 (ipykernel)",
   "language": "python",
   "name": "python3"
  },
  "language_info": {
   "codemirror_mode": {
    "name": "ipython",
    "version": 3
   },
   "file_extension": ".py",
   "mimetype": "text/x-python",
   "name": "python",
   "nbconvert_exporter": "python",
   "pygments_lexer": "ipython3",
   "version": "3.9.18"
  }
 },
 "nbformat": 4,
 "nbformat_minor": 5
}
